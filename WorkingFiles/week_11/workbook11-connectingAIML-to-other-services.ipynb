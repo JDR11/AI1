{
 "cells": [
  {
   "cell_type": "markdown",
   "metadata": {},
   "source": [
    "# Artificial Intelligence 1 Week 11 Practical\n",
    "### Goals\n",
    "This session is split into two parts.\n",
    "\n",
    "The first activity is designed  to give you practical experience of:\n",
    "- setting bot predicates outside your bot,  to customize it\n",
    "- using `<system>` tag-pairs to make calls and connecting your chatbot to external services.\n",
    "\n",
    "The second activity gives you a chance to work on the first bit of coursework, and make sure your testing toolchain is in place.\n",
    "\n",
    "\n",
    "### By the end of this session you should have\n",
    "\n",
    "- Understood how external programmes can affect your bot,  and vice versa\n",
    "\n",
    "\n",
    "- Understood what you need to do for the first piece of coursework.\n",
    "- Checked your toolchain for developing the coursework.\n",
    "\n",
    "### Before next week you should have\n",
    "- Got your knowledge base ready to submit for the first part of the coursework.\n"
   ]
  },
  {
   "cell_type": "markdown",
   "metadata": {},
   "source": [
    "<div class=\"alert alert-block alert-warning\", style= \"color:black\">\n",
    "    <h2> Tutorial activity 1: Communications between your bot and other programmes</h2>\n",
    "    </div>\n",
    "\n",
    "AIML V2 comes with new tags such as `<sraix>` that send messages to other programmes either on the local machine, or running as a web service.\n",
    "\n",
    "However even in AIML v1, there is the option to make a \"system\" call, which works in the same way as running a command from a terminal (mac/linux) or the \"command tool\" (windows)"
   ]
  },
  {
   "cell_type": "markdown",
   "metadata": {},
   "source": [
    "<div class=\"alert alert-block alert-warning\", style= \"color:black\">\n",
    "<h3>Activity 1.1 Setting/Getting Bot variables from outside the bot, and using `&lt;system&gt;` tags</h3>\n",
    "Start by reading then running the 3 cells below which:<ol>\n",
    "    <li> Create a bot </li>\n",
    "    <li> Demonstrate how an external programme can tell a running bot to set some predicate values according to the computer it is hosted on.   </br>\n",
    "In this case some of the stored values are the names of programmes to run outside the bot</li>\n",
    "    <li>Demonstrate how an external programme can  retrieve short term memory (predicates) from a running bot </li>\n",
    "</ol>\n",
    "Then run the cells after those to check the values from inside the bot\n",
    "</div>"
   ]
  },
  {
   "cell_type": "markdown",
   "metadata": {},
   "source": [
    "### Creating an empty bot in python"
   ]
  },
  {
   "cell_type": "code",
   "execution_count": null,
   "metadata": {},
   "outputs": [],
   "source": [
    "# Run this cell to create  your bot\n",
    "import aiml\n",
    "from IPython.display import HTML\n",
    "import platform\n",
    "\n",
    "# Create the kernel and learn AIML files\n",
    "myChatbot = aiml.Kernel()\n"
   ]
  },
  {
   "cell_type": "markdown",
   "metadata": {},
   "source": [
    "### Setting some bot predicates using python outside the bot"
   ]
  },
  {
   "cell_type": "code",
   "execution_count": null,
   "metadata": {},
   "outputs": [],
   "source": [
    "## In this cell python code is telling a running bot to set some values using the setPredicate() method\n",
    "\n",
    "# use a standard python library to find out what operating system this code is running on\n",
    "osname = platform.system()\n",
    "\n",
    "\n",
    "# set some command  according to the operating system\n",
    "if (osname=='Darwin'): #Macos\n",
    "    openUrlCommand = \"open\"\n",
    "    getDateCommand = \"date | cut -d' ' -f1-3,6\"\n",
    "    getTimeCommand = \"date|cut -d' ' -f4,5\"\n",
    "elif(osname=='Windows'):\n",
    "    openUrlCommand = \"start\"\n",
    "    # ideally the next two commands would be date/T and time/T, which jsut retrive current values\n",
    "    # but the aiml interpreter change the / to \\ on windows so they don;t geet sent trough correctly\n",
    "    # these versions shoul work fine - you can safely ignore the message about setting a new time\n",
    "    getDateCommand = \"date\"\n",
    "    getTimeCommand = \"time\"\n",
    "else: #linux\n",
    "    print(\"There may not be a command-line command to open an url on your system.\\n On linux it depends what you have installed\")\n",
    "    openUrlCommand = \"\"\n",
    "    getDateCommand= \"date | cut -d' ' -f1-3,6\"\n",
    "    getTimeCommand = \"date|cut -d' ' -f4,5\"\n",
    "\n",
    "    \n",
    "# \"teach\" the bot these values by creating  predicates\n",
    "myChatbot.setPredicate(\"osname\", osname)\n",
    "myChatbot.setPredicate(\"getDateCommand\", getDateCommand)\n",
    "myChatbot.setPredicate(\"getTimeCommand\", getTimeCommand)\n",
    "myChatbot.setPredicate(\"openURLCommand\", openUrlCommand)"
   ]
  },
  {
   "cell_type": "markdown",
   "metadata": {},
   "source": [
    "### Querying values of bot predicates from outside the bot"
   ]
  },
  {
   "cell_type": "code",
   "execution_count": null,
   "metadata": {},
   "outputs": [],
   "source": [
    "## In this cell python code asks the bot for values of variables (predicates) using the getPredicate() method\n",
    "\n",
    "\n",
    "print(\"The bot has its variable osname set to \" + myChatbot.getPredicate(\"osname\"))\n",
    "\n",
    "print( \"The bot will get the date calling system command: \" + myChatbot.getPredicate(\"getDateCommand\")  )\n",
    "print( \"The bot will get the time by calling system command: \" + myChatbot.getPredicate(\"getTimeCommand\") )\n",
    "\n",
    "print(\"The bot will use this command to open a url: \" + myChatbot.getPredicate(\"openURLCommand\"))"
   ]
  },
  {
   "cell_type": "markdown",
   "metadata": {},
   "source": [
    "### Next read, understand, then run the  cell below to write some categories to file\n",
    "The categories contain the knowlege about  how to answer  these things in an interactive chat session\n",
    "\n",
    "The first one just retrieves a stored value and returns it.\n",
    "\n",
    "The second and third categories  use `<system>` calls to the host computer, retrieving  stored values to set the commands to be run"
   ]
  },
  {
   "cell_type": "code",
   "execution_count": null,
   "metadata": {},
   "outputs": [],
   "source": [
    "%%writefile \"simple_extensions.aiml\"\n",
    "<aiml version=\"1.0.1\" encoding=\"UTF-8\">\n",
    "\n",
    "<category>\n",
    "    <pattern> WHAT OPERATING SYSTEM ARE YOU RUNNING ON</pattern>\n",
    "    <template><get name=\"osname\" /></template>\n",
    "</category>\n",
    "\n",
    "<category>\n",
    "    <pattern> WHAT IS THE TIME </pattern>\n",
    "    <template> \n",
    "          It is <system><get name = \"getTimeCommand\"/></system>\n",
    "    </template>\n",
    "</category>\n",
    "\n",
    "<category>\n",
    "    <pattern> WHAT IS THE DATE </pattern>\n",
    "    <template> \n",
    "        Today is <system><get name=\"getDateCommand\"/></system>\n",
    "    </template>\n",
    "</category>\n",
    "\n",
    "\n",
    "\n",
    "</aiml>"
   ]
  },
  {
   "cell_type": "markdown",
   "metadata": {},
   "source": [
    "### Now its time to experiment:  run a chat session and ask the bot \n",
    "- what time it is\n",
    "- what date it is\n",
    "-  what operating sysem it is running on."
   ]
  },
  {
   "cell_type": "code",
   "execution_count": null,
   "metadata": {},
   "outputs": [],
   "source": [
    "myChatbot.learn(\"simple_extensions.aiml\")\n",
    "myChatbot.verbose(True)\n",
    "\n",
    "keepGoing=True\n",
    "while(keepGoing):\n",
    "    nextInput = input(\"Enter your message >> \")\n",
    "    if(nextInput=='bye'):\n",
    "        keepGoing=False\n",
    "    else:\n",
    "        print (myChatbot.respond(nextInput))\n",
    "\n"
   ]
  },
  {
   "cell_type": "markdown",
   "metadata": {},
   "source": [
    "\n",
    "<div class=\"alert alert-block alert-warning\", style= \"color:black\">\n",
    "    <h3>Activity 1.2 Connecting the bot to query other web services</h3>\n",
    "    First <b>read</b>, then <b>run</b> the cell below to store some categories which make calls to external services\n",
    "Each one does the same three things in its template:\n",
    "\n",
    "1. Uses a `<think>` pair to construct a variable called `runquery` by adding together\n",
    "  - the computer-specific command to open a url in a new tab\n",
    "  - the name of a web service\n",
    "  - the thing the user asked for - stored in `<star/>`\n",
    "2. Prints out a message and the hyperlink it hs constructed.\n",
    "3. Uses a `<system>` tag-pair to ask the host computer to perform that action "
   ]
  },
  {
   "cell_type": "code",
   "execution_count": null,
   "metadata": {},
   "outputs": [],
   "source": [
    "%%writefile \"web_extensions.aiml\"\n",
    "<aiml version=\"1.0.1\" encoding=\"UTF-8\">\n",
    "\n",
    "\n",
    "\n",
    "<category>\n",
    "    <pattern> GOOGLE *</pattern>\n",
    "    <template>\n",
    "        <think>\n",
    "            <set name=\"runquery\"><get name=\"openURLCommand\"/> http://www.google.co.uk/search?q=<star/></set>\n",
    "        </think>\n",
    "        If the tab does not open, here is a clickable link <get name=\"runquery\"/>\n",
    "        <system><get name=\"runquery\"/></system>\n",
    "    </template>\n",
    "</category>\n",
    "\n",
    "<category>\n",
    "  <pattern> IMAGES *</pattern>\n",
    "  <template>\n",
    "        <think>\n",
    "            <set name=\"runquery\"><get name=\"openURLCommand\"/> http://www.google.co.uk/images?q=<star/></set>\n",
    "        </think>\n",
    "        If the tab does not open, here is a clickable link <get name=\"runquery\"/>\n",
    "        <system><get name=\"runquery\"/></system>\n",
    "    </template>\n",
    "</category>\n",
    "\n",
    "<category>\n",
    "    <pattern> MAP OF *</pattern>\n",
    "    <template>\n",
    "        <think>\n",
    "            <set name=\"runquery\"><get name=\"openURLCommand\"/> http://www.google.co.uk/maps?q=<star/></set>\n",
    "        </think>\n",
    "        If the tab does not open, here is a clickable link <get name=\"runquery\"/>\n",
    "        <system><get name=\"runquery\"/></system>\n",
    "    </template>\n",
    "</category>\n",
    "\n",
    "<category>\n",
    "    <pattern> WIKIPEDIA * </pattern>\n",
    "    <template>\n",
    "        <think>\n",
    "            <set name=\"runquery\"><get name=\"openURLCommand\"/> https://en.wikipedia.org/wiki/<star/></set>\n",
    "        </think>\n",
    "        If the tab does not open, here is a clickable link <get name=\"runquery\"/>\n",
    "        <system><get name=\"runquery\"/></system>\n",
    "    </template>\n",
    "</category>\n",
    "\n",
    "<category>\n",
    "    <pattern> CALCULATE * </pattern>\n",
    "    <template>\n",
    "        <think>\n",
    "            <set name=\"runquery\"><get name=\"openURLCommand\"/> http://www.google.co.uk/search?q=<star/></set>\n",
    "        </think>\n",
    "        If the tab does not open, here is a clickable link <get name=\"runquery\"/>\n",
    "        <system><get name=\"runquery\"/></system>\n",
    "    </template>\n",
    "</category>\n",
    "\n",
    "</aiml>"
   ]
  },
  {
   "cell_type": "markdown",
   "metadata": {},
   "source": [
    "### Now try these out by running the next cell \n",
    "\n",
    "\n",
    "**Try these commands:**\n",
    "Google Nelson\n",
    "Wikipedia Nelson\n",
    "Map of Nelson\n",
    "Images Nelson\n",
    "\n",
    "**What does the number of resultra for Nelson Mandela tell you aobput how biassed ghe information on the web is??**\n",
    "\n",
    "\n",
    "**On your own machine** these should:\n",
    "- open a new tab, and \n",
    "- produce a hyperlink in the chat window.\n",
    "\n",
    "**If you are using the csctcloud server**  then \n",
    "- you will still get the hyperlink in the chat window, which should open a new tab in your browser when you click on it. \n",
    "- but for security reasons it's harder to (or Jim doesn't know how to) make a remote machine (csctcloud) open a tab in your browser\n",
    "</div>"
   ]
  },
  {
   "cell_type": "code",
   "execution_count": null,
   "metadata": {},
   "outputs": [],
   "source": [
    "myChatbot.learn(\"web_extensions.aiml\")\n",
    "myChatbot.verbose(True)\n",
    "\n",
    "keepGoing=True\n",
    "while(keepGoing):\n",
    "    nextInput = input(\"Enter your message >> \")\n",
    "    if(nextInput=='bye'):\n",
    "        keepGoing=False\n",
    "    else:\n",
    "        print (myChatbot.respond(nextInput))\n",
    "\n",
    "\n"
   ]
  },
  {
   "cell_type": "markdown",
   "metadata": {},
   "source": [
    "<div class = \"alert alert-block alert-info\"><b>Congratulations:</b>  You have now taken the first steps to personalising a bot.<br>\n",
    "Below are some suggestions for things that you could do in your self-study activities.</div>"
   ]
  },
  {
   "cell_type": "markdown",
   "metadata": {},
   "source": [
    "<div class=\"alert alert-block alert-warning\", style= \"color:black\">\n",
    "    <h3> Activity 1.3 Suggestions for further work</h3>\n",
    "\n",
    "Below are some suggestions for things that you could do in the remaining tutorial time or in your self-study activities.<br>\n",
    "You should aim to complete at least one of them.\n",
    "<ol>\n",
    "    <li>Extend the categories above to link to other sources beyond google and wikipedia.</li>\n",
    "<li> Refactor the AIML categories above, to make a logical distinction between <ul>\n",
    " <li> the category that formulates the query, and </li>\n",
    " <li> the category that runs the query on the host system. <br> \n",
    "     You could do this using `&lt;think&gt;` to make and save a query for different services, <br> \n",
    "   and then use `&lt;srai&gt;` to call  a second category that ran the query and deals with the operating system.<br>\n",
    " This should allow you to change things more flexibly in the future. </li>\n",
    "    </ul>\n",
    "  \n",
    "<li> Use the function myChatBot.setPredicate() to give your bot a name and personality, and write categories that answer user questions about the bot.</li>\n",
    "<li> Make 2 bot instances with different names and see if you can get them talking to each other!</li>\n",
    "    </ol>\n",
    "    </div>"
   ]
  },
  {
   "cell_type": "markdown",
   "metadata": {},
   "source": [
    "<div class=\"alert alert-block alert-warning\", style= \"color:black\">\n",
    "    <h2>Tutorial/self-study activity: Working on the coursework knowlege base</h2>\n",
    "    </div>\n",
    "\n",
    "**The set of 45 questions and answers for you to encode in AIML to create knowledge base  are in the week 5 folder in Blackboard. **"
   ]
  },
  {
   "cell_type": "markdown",
   "metadata": {},
   "source": [
    "<div class=\"alert alert-block alert-danger\"> Please save your work (click the save icon) then shutdown the notebook when you have finished with this tutorial (menu->file->close and shutdown notebook</div>\n"
   ]
  },
  {
   "cell_type": "code",
   "execution_count": null,
   "metadata": {},
   "outputs": [],
   "source": []
  }
 ],
 "metadata": {
  "kernelspec": {
   "display_name": "Python 3 (ipykernel)",
   "language": "python",
   "name": "python3"
  },
  "language_info": {
   "codemirror_mode": {
    "name": "ipython",
    "version": 3
   },
   "file_extension": ".py",
   "mimetype": "text/x-python",
   "name": "python",
   "nbconvert_exporter": "python",
   "pygments_lexer": "ipython3",
   "version": "3.11.6"
  }
 },
 "nbformat": 4,
 "nbformat_minor": 4
}
