{
 "cells": [
  {
   "cell_type": "markdown",
   "id": "7dea5538-7e30-4824-a665-73c32d7f2e3b",
   "metadata": {},
   "source": [
    "# Week 4: Search in Continuous Spaces"
   ]
  },
  {
   "cell_type": "code",
   "execution_count": null,
   "id": "0f98c3af-32cb-4a15-8172-721f04b25592",
   "metadata": {},
   "outputs": [],
   "source": [
    "to be completed depending on progress ibn weeks 1-3"
   ]
  }
 ],
 "metadata": {
  "kernelspec": {
   "display_name": "aienv",
   "language": "python",
   "name": "aienv"
  },
  "language_info": {
   "codemirror_mode": {
    "name": "ipython",
    "version": 3
   },
   "file_extension": ".py",
   "mimetype": "text/x-python",
   "name": "python",
   "nbconvert_exporter": "python",
   "pygments_lexer": "ipython3",
   "version": "3.11.6"
  }
 },
 "nbformat": 4,
 "nbformat_minor": 5
}
